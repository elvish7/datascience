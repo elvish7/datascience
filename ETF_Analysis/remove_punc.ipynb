{
 "cells": [
  {
   "cell_type": "code",
   "execution_count": 1,
   "metadata": {},
   "outputs": [],
   "source": [
    "import pandas as pd\n",
    "import numpy as np"
   ]
  },
  {
   "cell_type": "code",
   "execution_count": null,
   "metadata": {},
   "outputs": [],
   "source": [
    "#read from word list by nltk\n",
    "def remove_punc(wordlist):\n",
    "    for i in range(len(wordlist)):\n",
    "        wordlist[0][i]=str(wordlist[0][i])\n",
    "        #print(type(data_positive_wordlist[0][i]))\n",
    "        wordlist[0][i]=wordlist[0][i].strip(\"”\")\n",
    "        wordlist[0][i]=wordlist[0][i].strip(\"“\")\n",
    "        wordlist[0][i]=wordlist[0][i].strip(\"‘\")\n",
    "        wordlist[0][i]=wordlist[0][i].strip(\"’\")\n",
    "        #print(wordlist[0][i])\n",
    "    return wordlist\n",
    "\n",
    "data_positive_wordlist=pd.read_excel(\"/Users/tyllersun/Desktop/大一/data_science/word_list_Tyller.xlsx\",sheet_name=\"positive\" )\n",
    "#print(data_positive_wordlist.head())\n",
    "data_positive_wordlist=remove_punc(data_positive_wordlist)\n",
    "#print(data_positive_wordlist.head())\n",
    "print(\"done\")\n",
    "data_negative_wordlist=pd.read_excel(\"/Users/tyllersun/Desktop/大一/data_science/word_list_Tyller.xlsx\",sheet_name=\"negative\" )\n",
    "data_negative_wordlist=remove_punc(data_negative_wordlist)\n",
    "print(\"done\")\n",
    "data_neutral_wordlist=pd.read_excel(\"/Users/tyllersun/Desktop/大一/data_science/word_list_Tyller.xlsx\",sheet_name=\"neutral\" )\n",
    "data_neutral_wordlist=remove_punc(data_neutral_wordlist)\n",
    "print(data_neutral_wordlist.head())\n",
    "print(\"done\")"
   ]
  },
  {
   "cell_type": "code",
   "execution_count": null,
   "metadata": {},
   "outputs": [],
   "source": [
    "writer = pd.ExcelWriter('word_list_non_punc.xlsx')\n",
    "data_positive_wordlist.to_excel(writer,'positive')\n",
    "data_neutral_wordlist.to_excel(writer,'neutral')\n",
    "data_negative_wordlist.to_excel(writer,'negative')\n",
    "writer.save()"
   ]
  }
 ],
 "metadata": {
  "kernelspec": {
   "display_name": "Python 3",
   "language": "python",
   "name": "python3"
  },
  "language_info": {
   "codemirror_mode": {
    "name": "ipython",
    "version": 3
   },
   "file_extension": ".py",
   "mimetype": "text/x-python",
   "name": "python",
   "nbconvert_exporter": "python",
   "pygments_lexer": "ipython3",
   "version": "3.7.1"
  }
 },
 "nbformat": 4,
 "nbformat_minor": 2
}
