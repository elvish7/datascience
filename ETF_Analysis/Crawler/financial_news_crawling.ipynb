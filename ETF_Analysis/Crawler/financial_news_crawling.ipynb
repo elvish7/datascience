{
 "cells": [
  {
   "cell_type": "code",
   "execution_count": 1,
   "metadata": {},
   "outputs": [
    {
     "name": "stdout",
     "output_type": "stream",
     "text": [
      "page0-page100:finished!\n",
      "page100-page200:finished!\n",
      "page200-page300:finished!\n",
      "page300-page400:finished!\n",
      "page400-page500:finished!\n",
      "page500-page600:finished!\n",
      "page600-page700:finished!\n",
      "page700-page800:finished!\n",
      "page800-page900:finished!\n",
      "page900-page1000:finished!\n",
      "page1000-page1100:finished!\n",
      "page1100-page1200:finished!\n",
      "page1200-page1300:finished!\n",
      "page1300-page1400:finished!\n",
      "page1400-page1500:finished!\n",
      "page1500-page1600:finished!\n",
      "page1600-page1700:finished!\n",
      "page1700-page1800:finished!\n",
      "page1800-page1900:finished!\n",
      "page1900-page2000:finished!\n",
      "page2000-page2100:finished!\n",
      "The last part:finished!\n"
     ]
    }
   ],
   "source": [
    "from bs4 import BeautifulSoup\n",
    "import requests\n",
    "import pandas as pd\n",
    "import numpy as np\n",
    "\n",
    "content = []\n",
    "def get_news():\n",
    "    \n",
    "    for i in range(2220):#2220\n",
    "        if i == 0:\n",
    "            site = 'https://www.reuters.com/news/technology'\n",
    "        else:\n",
    "            site = 'https://www.reuters.com/news/archive/technologynews?view=page&page='+str(i+1)+'&pageSize=10'\n",
    "\n",
    "        html = requests.get(site).content\n",
    "        soup = BeautifulSoup(html , 'lxml')\n",
    "    \n",
    "        story = soup.find_all('div',class_='story-content')\n",
    "        for j in story:\n",
    "            try:\n",
    "                link = 'http://www.reuters.com'+(j.find('a', href=True)['href'])\n",
    "                title = j.find(class_='story-title').text.strip()\n",
    "                summary = j.find('p').text.strip()\n",
    "                time = j.find(class_='article-time').text.strip()\n",
    "                content.append((link,title,summary,time))\n",
    "            except: pass\n",
    "            \n",
    "        #show the process\n",
    "        if i%100 == 0 and i != 2200 and i != 0:\n",
    "            print('page'+str(i-100)+'-'+'page'+str(i)+':finished!')\n",
    "        if i == 2219:\n",
    "            print('The last part:finished!')\n",
    "        \n",
    "get_news()"
   ]
  },
  {
   "cell_type": "code",
   "execution_count": 2,
   "metadata": {},
   "outputs": [
    {
     "data": {
      "text/plain": [
       "22200"
      ]
     },
     "execution_count": 2,
     "metadata": {},
     "output_type": "execute_result"
    }
   ],
   "source": [
    "#convert output to new array, check length\n",
    "content = np.asarray(content)\n",
    "len(content)"
   ]
  },
  {
   "cell_type": "code",
   "execution_count": 3,
   "metadata": {},
   "outputs": [
    {
     "data": {
      "text/html": [
       "<div>\n",
       "<style scoped>\n",
       "    .dataframe tbody tr th:only-of-type {\n",
       "        vertical-align: middle;\n",
       "    }\n",
       "\n",
       "    .dataframe tbody tr th {\n",
       "        vertical-align: top;\n",
       "    }\n",
       "\n",
       "    .dataframe thead th {\n",
       "        text-align: right;\n",
       "    }\n",
       "</style>\n",
       "<table border=\"1\" class=\"dataframe\">\n",
       "  <thead>\n",
       "    <tr style=\"text-align: right;\">\n",
       "      <th></th>\n",
       "      <th>link</th>\n",
       "      <th>title</th>\n",
       "      <th>summary</th>\n",
       "      <th>time</th>\n",
       "    </tr>\n",
       "  </thead>\n",
       "  <tbody>\n",
       "    <tr>\n",
       "      <th>22195</th>\n",
       "      <td>http://www.reuters.com/article/us-samsung-soft...</td>\n",
       "      <td>Samsung Electronics says new smart TVs in 2015...</td>\n",
       "      <td>Samsung Electronics Co Ltd said on Thursday th...</td>\n",
       "      <td>Dec 31 2014</td>\n",
       "    </tr>\n",
       "    <tr>\n",
       "      <th>22196</th>\n",
       "      <td>http://www.reuters.com/article/us-huawei-tech-...</td>\n",
       "      <td>China's Huawei 2014 smartphone sales rise by a...</td>\n",
       "      <td>Huawei Technology Co Ltd's [HWT.UL] smartphone...</td>\n",
       "      <td>Dec 31 2014</td>\n",
       "    </tr>\n",
       "    <tr>\n",
       "      <th>22197</th>\n",
       "      <td>http://www.reuters.com/article/us-inovalon-ipo...</td>\n",
       "      <td>Analytics-based U.S. tech firm Inovalon files ...</td>\n",
       "      <td>Inovalon Holdings Inc, an analytics and data-b...</td>\n",
       "      <td>Dec 30 2014</td>\n",
       "    </tr>\n",
       "    <tr>\n",
       "      <th>22198</th>\n",
       "      <td>http://www.reuters.com/article/us-inovalon-ipo...</td>\n",
       "      <td>Analytics-based tech firm Inovalon files for IPO</td>\n",
       "      <td>Inovalon Holdings Inc, an analytics and data-b...</td>\n",
       "      <td>Dec 30 2014</td>\n",
       "    </tr>\n",
       "    <tr>\n",
       "      <th>22199</th>\n",
       "      <td>http://www.reuters.com/article/us-uber-india-r...</td>\n",
       "      <td>India's capital sets new rules for Uber, other...</td>\n",
       "      <td>Taxi firms including Uber, the online cab-hail...</td>\n",
       "      <td>Dec 30 2014</td>\n",
       "    </tr>\n",
       "  </tbody>\n",
       "</table>\n",
       "</div>"
      ],
      "text/plain": [
       "                                                    link  \\\n",
       "22195  http://www.reuters.com/article/us-samsung-soft...   \n",
       "22196  http://www.reuters.com/article/us-huawei-tech-...   \n",
       "22197  http://www.reuters.com/article/us-inovalon-ipo...   \n",
       "22198  http://www.reuters.com/article/us-inovalon-ipo...   \n",
       "22199  http://www.reuters.com/article/us-uber-india-r...   \n",
       "\n",
       "                                                   title  \\\n",
       "22195  Samsung Electronics says new smart TVs in 2015...   \n",
       "22196  China's Huawei 2014 smartphone sales rise by a...   \n",
       "22197  Analytics-based U.S. tech firm Inovalon files ...   \n",
       "22198   Analytics-based tech firm Inovalon files for IPO   \n",
       "22199  India's capital sets new rules for Uber, other...   \n",
       "\n",
       "                                                 summary         time  \n",
       "22195  Samsung Electronics Co Ltd said on Thursday th...  Dec 31 2014  \n",
       "22196  Huawei Technology Co Ltd's [HWT.UL] smartphone...  Dec 31 2014  \n",
       "22197  Inovalon Holdings Inc, an analytics and data-b...  Dec 30 2014  \n",
       "22198  Inovalon Holdings Inc, an analytics and data-b...  Dec 30 2014  \n",
       "22199  Taxi firms including Uber, the online cab-hail...  Dec 30 2014  "
      ]
     },
     "execution_count": 3,
     "metadata": {},
     "output_type": "execute_result"
    }
   ],
   "source": [
    "#convert new array to dataframe\n",
    "df = pd.DataFrame(content)\n",
    "#rename columns, check output\n",
    "df.columns = ['link', 'title', 'summary','time']\n",
    "df.tail()"
   ]
  },
  {
   "cell_type": "code",
   "execution_count": 4,
   "metadata": {},
   "outputs": [],
   "source": [
    "#save data\n",
    "df.to_csv('financial_newsdata.csv')"
   ]
  },
  {
   "cell_type": "code",
   "execution_count": null,
   "metadata": {},
   "outputs": [],
   "source": []
  },
  {
   "cell_type": "markdown",
   "metadata": {},
   "source": [
    "[crawling](https://blog.gtwang.org/programming/python-beautiful-soup-module-scrape-web-pages-tutorial/3/)  \n",
    "[bs4 example](https://erikrood.com/Python_References/web_scrape.html)  \n",
    "[Top 10 Best Financial & Stock Market News Sources](https://www.liberatedstocktrader.com/top-10-best-financial-stock-market-news-sources/)  \n",
    "[ETFdailynews](https://etfdailynews.com/blog/)  "
   ]
  },
  {
   "cell_type": "code",
   "execution_count": null,
   "metadata": {},
   "outputs": [],
   "source": []
  }
 ],
 "metadata": {
  "kernelspec": {
   "display_name": "python3.5",
   "language": "python",
   "name": "python3.5"
  },
  "language_info": {
   "codemirror_mode": {
    "name": "ipython",
    "version": 3
   },
   "file_extension": ".py",
   "mimetype": "text/x-python",
   "name": "python",
   "nbconvert_exporter": "python",
   "pygments_lexer": "ipython3",
   "version": "3.7.3"
  }
 },
 "nbformat": 4,
 "nbformat_minor": 2
}
