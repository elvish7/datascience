{
 "cells": [
  {
   "cell_type": "markdown",
   "metadata": {},
   "source": [
    "### Google Trend  "
   ]
  },
  {
   "cell_type": "code",
   "execution_count": 5,
   "metadata": {},
   "outputs": [
    {
     "data": {
      "text/html": [
       "<div>\n",
       "<style scoped>\n",
       "    .dataframe tbody tr th:only-of-type {\n",
       "        vertical-align: middle;\n",
       "    }\n",
       "\n",
       "    .dataframe tbody tr th {\n",
       "        vertical-align: top;\n",
       "    }\n",
       "\n",
       "    .dataframe thead th {\n",
       "        text-align: right;\n",
       "    }\n",
       "</style>\n",
       "<table border=\"1\" class=\"dataframe\">\n",
       "  <thead>\n",
       "    <tr style=\"text-align: right;\">\n",
       "      <th></th>\n",
       "      <th>DIA</th>\n",
       "      <th>isPartial</th>\n",
       "      <th>SPY</th>\n",
       "      <th>QQQ</th>\n",
       "      <th>IWM</th>\n",
       "      <th>IYR</th>\n",
       "      <th>XHB</th>\n",
       "      <th>ITB</th>\n",
       "      <th>IYT</th>\n",
       "      <th>ITA</th>\n",
       "      <th>...</th>\n",
       "      <th>RTH</th>\n",
       "      <th>SMH</th>\n",
       "      <th>XLB</th>\n",
       "      <th>XLE</th>\n",
       "      <th>XLF</th>\n",
       "      <th>XLI</th>\n",
       "      <th>XLP</th>\n",
       "      <th>XLU</th>\n",
       "      <th>XLV</th>\n",
       "      <th>XLY</th>\n",
       "    </tr>\n",
       "    <tr>\n",
       "      <th>date</th>\n",
       "      <th></th>\n",
       "      <th></th>\n",
       "      <th></th>\n",
       "      <th></th>\n",
       "      <th></th>\n",
       "      <th></th>\n",
       "      <th></th>\n",
       "      <th></th>\n",
       "      <th></th>\n",
       "      <th></th>\n",
       "      <th></th>\n",
       "      <th></th>\n",
       "      <th></th>\n",
       "      <th></th>\n",
       "      <th></th>\n",
       "      <th></th>\n",
       "      <th></th>\n",
       "      <th></th>\n",
       "      <th></th>\n",
       "      <th></th>\n",
       "      <th></th>\n",
       "    </tr>\n",
       "  </thead>\n",
       "  <tbody>\n",
       "    <tr>\n",
       "      <th>2004-01-01</th>\n",
       "      <td>15</td>\n",
       "      <td>False</td>\n",
       "      <td>79</td>\n",
       "      <td>75</td>\n",
       "      <td>81</td>\n",
       "      <td>73</td>\n",
       "      <td>0</td>\n",
       "      <td>51</td>\n",
       "      <td>38</td>\n",
       "      <td>13</td>\n",
       "      <td>...</td>\n",
       "      <td>70</td>\n",
       "      <td>18</td>\n",
       "      <td>41</td>\n",
       "      <td>32</td>\n",
       "      <td>20</td>\n",
       "      <td>6</td>\n",
       "      <td>26</td>\n",
       "      <td>33</td>\n",
       "      <td>3</td>\n",
       "      <td>16</td>\n",
       "    </tr>\n",
       "    <tr>\n",
       "      <th>2004-02-01</th>\n",
       "      <td>21</td>\n",
       "      <td>False</td>\n",
       "      <td>83</td>\n",
       "      <td>64</td>\n",
       "      <td>56</td>\n",
       "      <td>73</td>\n",
       "      <td>0</td>\n",
       "      <td>81</td>\n",
       "      <td>100</td>\n",
       "      <td>13</td>\n",
       "      <td>...</td>\n",
       "      <td>67</td>\n",
       "      <td>20</td>\n",
       "      <td>89</td>\n",
       "      <td>35</td>\n",
       "      <td>30</td>\n",
       "      <td>4</td>\n",
       "      <td>18</td>\n",
       "      <td>32</td>\n",
       "      <td>3</td>\n",
       "      <td>0</td>\n",
       "    </tr>\n",
       "    <tr>\n",
       "      <th>2004-03-01</th>\n",
       "      <td>22</td>\n",
       "      <td>False</td>\n",
       "      <td>79</td>\n",
       "      <td>54</td>\n",
       "      <td>90</td>\n",
       "      <td>45</td>\n",
       "      <td>0</td>\n",
       "      <td>99</td>\n",
       "      <td>0</td>\n",
       "      <td>13</td>\n",
       "      <td>...</td>\n",
       "      <td>61</td>\n",
       "      <td>19</td>\n",
       "      <td>100</td>\n",
       "      <td>28</td>\n",
       "      <td>27</td>\n",
       "      <td>5</td>\n",
       "      <td>32</td>\n",
       "      <td>39</td>\n",
       "      <td>4</td>\n",
       "      <td>0</td>\n",
       "    </tr>\n",
       "    <tr>\n",
       "      <th>2004-04-01</th>\n",
       "      <td>29</td>\n",
       "      <td>False</td>\n",
       "      <td>82</td>\n",
       "      <td>45</td>\n",
       "      <td>94</td>\n",
       "      <td>70</td>\n",
       "      <td>0</td>\n",
       "      <td>31</td>\n",
       "      <td>83</td>\n",
       "      <td>12</td>\n",
       "      <td>...</td>\n",
       "      <td>55</td>\n",
       "      <td>17</td>\n",
       "      <td>31</td>\n",
       "      <td>26</td>\n",
       "      <td>26</td>\n",
       "      <td>5</td>\n",
       "      <td>8</td>\n",
       "      <td>31</td>\n",
       "      <td>4</td>\n",
       "      <td>15</td>\n",
       "    </tr>\n",
       "    <tr>\n",
       "      <th>2004-05-01</th>\n",
       "      <td>34</td>\n",
       "      <td>False</td>\n",
       "      <td>88</td>\n",
       "      <td>63</td>\n",
       "      <td>75</td>\n",
       "      <td>61</td>\n",
       "      <td>0</td>\n",
       "      <td>32</td>\n",
       "      <td>21</td>\n",
       "      <td>12</td>\n",
       "      <td>...</td>\n",
       "      <td>58</td>\n",
       "      <td>21</td>\n",
       "      <td>94</td>\n",
       "      <td>21</td>\n",
       "      <td>11</td>\n",
       "      <td>5</td>\n",
       "      <td>29</td>\n",
       "      <td>0</td>\n",
       "      <td>4</td>\n",
       "      <td>26</td>\n",
       "    </tr>\n",
       "  </tbody>\n",
       "</table>\n",
       "<p>5 rows × 24 columns</p>\n",
       "</div>"
      ],
      "text/plain": [
       "            DIA  isPartial  SPY  QQQ  IWM  IYR  XHB  ITB  IYT  ITA  ...  RTH  \\\n",
       "date                                                                ...        \n",
       "2004-01-01   15      False   79   75   81   73    0   51   38   13  ...   70   \n",
       "2004-02-01   21      False   83   64   56   73    0   81  100   13  ...   67   \n",
       "2004-03-01   22      False   79   54   90   45    0   99    0   13  ...   61   \n",
       "2004-04-01   29      False   82   45   94   70    0   31   83   12  ...   55   \n",
       "2004-05-01   34      False   88   63   75   61    0   32   21   12  ...   58   \n",
       "\n",
       "            SMH  XLB  XLE  XLF  XLI  XLP  XLU  XLV  XLY  \n",
       "date                                                     \n",
       "2004-01-01   18   41   32   20    6   26   33    3   16  \n",
       "2004-02-01   20   89   35   30    4   18   32    3    0  \n",
       "2004-03-01   19  100   28   27    5   32   39    4    0  \n",
       "2004-04-01   17   31   26   26    5    8   31    4   15  \n",
       "2004-05-01   21   94   21   11    5   29    0    4   26  \n",
       "\n",
       "[5 rows x 24 columns]"
      ]
     },
     "execution_count": 5,
     "metadata": {},
     "output_type": "execute_result"
    }
   ],
   "source": [
    "import pandas as pd\n",
    "df = pd.read_excel('google_trend.xlsx')\n",
    "y = df['date']\n",
    "df.set_index('date', inplace=True)\n",
    "df.head()"
   ]
  },
  {
   "cell_type": "code",
   "execution_count": 6,
   "metadata": {},
   "outputs": [
    {
     "data": {
      "text/html": [
       "<div>\n",
       "<style scoped>\n",
       "    .dataframe tbody tr th:only-of-type {\n",
       "        vertical-align: middle;\n",
       "    }\n",
       "\n",
       "    .dataframe tbody tr th {\n",
       "        vertical-align: top;\n",
       "    }\n",
       "\n",
       "    .dataframe thead th {\n",
       "        text-align: right;\n",
       "    }\n",
       "</style>\n",
       "<table border=\"1\" class=\"dataframe\">\n",
       "  <thead>\n",
       "    <tr style=\"text-align: right;\">\n",
       "      <th></th>\n",
       "      <th>Unnamed: 0</th>\n",
       "      <th>Symbols</th>\n",
       "      <th>open</th>\n",
       "      <th>high</th>\n",
       "      <th>low</th>\n",
       "      <th>close</th>\n",
       "      <th>volume</th>\n",
       "    </tr>\n",
       "    <tr>\n",
       "      <th>date</th>\n",
       "      <th></th>\n",
       "      <th></th>\n",
       "      <th></th>\n",
       "      <th></th>\n",
       "      <th></th>\n",
       "      <th></th>\n",
       "      <th></th>\n",
       "    </tr>\n",
       "  </thead>\n",
       "  <tbody>\n",
       "    <tr>\n",
       "      <th>2015-05-01</th>\n",
       "      <td>0</td>\n",
       "      <td>DIA</td>\n",
       "      <td>163.1623</td>\n",
       "      <td>163.8906</td>\n",
       "      <td>162.9528</td>\n",
       "      <td>163.7905</td>\n",
       "      <td>3895734</td>\n",
       "    </tr>\n",
       "    <tr>\n",
       "      <th>2015-05-01</th>\n",
       "      <td>1</td>\n",
       "      <td>IBB</td>\n",
       "      <td>112.1416</td>\n",
       "      <td>114.0600</td>\n",
       "      <td>111.8950</td>\n",
       "      <td>113.8780</td>\n",
       "      <td>7509189</td>\n",
       "    </tr>\n",
       "    <tr>\n",
       "      <th>2015-05-01</th>\n",
       "      <td>2</td>\n",
       "      <td>IHE</td>\n",
       "      <td>159.5720</td>\n",
       "      <td>161.3193</td>\n",
       "      <td>159.5720</td>\n",
       "      <td>161.2154</td>\n",
       "      <td>52208</td>\n",
       "    </tr>\n",
       "    <tr>\n",
       "      <th>2015-05-01</th>\n",
       "      <td>3</td>\n",
       "      <td>ITA</td>\n",
       "      <td>116.0162</td>\n",
       "      <td>116.4203</td>\n",
       "      <td>115.5169</td>\n",
       "      <td>116.3427</td>\n",
       "      <td>50103</td>\n",
       "    </tr>\n",
       "    <tr>\n",
       "      <th>2015-05-01</th>\n",
       "      <td>4</td>\n",
       "      <td>ITB</td>\n",
       "      <td>25.4884</td>\n",
       "      <td>25.9698</td>\n",
       "      <td>25.4392</td>\n",
       "      <td>25.8617</td>\n",
       "      <td>2935759</td>\n",
       "    </tr>\n",
       "  </tbody>\n",
       "</table>\n",
       "</div>"
      ],
      "text/plain": [
       "            Unnamed: 0 Symbols      open      high       low     close  \\\n",
       "date                                                                     \n",
       "2015-05-01           0     DIA  163.1623  163.8906  162.9528  163.7905   \n",
       "2015-05-01           1     IBB  112.1416  114.0600  111.8950  113.8780   \n",
       "2015-05-01           2     IHE  159.5720  161.3193  159.5720  161.2154   \n",
       "2015-05-01           3     ITA  116.0162  116.4203  115.5169  116.3427   \n",
       "2015-05-01           4     ITB   25.4884   25.9698   25.4392   25.8617   \n",
       "\n",
       "             volume  \n",
       "date                 \n",
       "2015-05-01  3895734  \n",
       "2015-05-01  7509189  \n",
       "2015-05-01    52208  \n",
       "2015-05-01    50103  \n",
       "2015-05-01  2935759  "
      ]
     },
     "execution_count": 6,
     "metadata": {},
     "output_type": "execute_result"
    }
   ],
   "source": [
    "df1 = pd.read_csv('industry_etf_bydate.csv')\n",
    "df1['date'] = pd.to_datetime(df1['date'])\n",
    "dfm = df1[df1['date'].dt.day == 1] #by month   \n",
    "df1.set_index('date', inplace=True)\n",
    "dfm.set_index('date', inplace=True)\n",
    "#print(df1.head())\n",
    "dfm.head()"
   ]
  },
  {
   "cell_type": "code",
   "execution_count": 7,
   "metadata": {},
   "outputs": [],
   "source": [
    "import matplotlib.pyplot as plt\n",
    "#set plot type\n",
    "plt.rcParams['figure.figsize'] = (15, 3)\n",
    "font = {'family': 'Segoe Script', 'weight': 'normal', 'size': 15}\n",
    "plt.rc('font',**font)\n",
    "plt.rc('xtick', labelsize=12)\n",
    "plt.rc('ytick', labelsize=12)\n",
    "plt.rcParams['axes.unicode_minus']=False #show minus"
   ]
  },
  {
   "cell_type": "code",
   "execution_count": 10,
   "metadata": {},
   "outputs": [
    {
     "data": {
      "text/plain": [
       "<matplotlib.axes._subplots.AxesSubplot at 0x171914be9b0>"
      ]
     },
     "execution_count": 10,
     "metadata": {},
     "output_type": "execute_result"
    },
    {
     "data": {
      "image/png": "[encoded data removed]",
      "text/plain": [
       "<Figure size 1080x216 with 1 Axes>"
      ]
     },
     "metadata": {
      "needs_background": "light"
     },
     "output_type": "display_data"
    }
   ],
   "source": [
    "spyc = dfm[dfm['Symbols'] == 'DIA']['close']\n",
    "spyc1 = spyc.loc['2015-05-01':'2019-05-01']\n",
    "spyc1.plot()\n",
    "df['DIA'].loc['2015-05-01':'2019-05-01'].plot(color='g')"
   ]
  },
  {
   "cell_type": "code",
   "execution_count": 9,
   "metadata": {},
   "outputs": [
    {
     "data": {
      "text/plain": [
       "<matplotlib.axes._subplots.AxesSubplot at 0x17190bdf3c8>"
      ]
     },
     "execution_count": 9,
     "metadata": {},
     "output_type": "execute_result"
    },
    {
     "data": {
      "image/png": "[encoded data removed]",
      "text/plain": [
       "<Figure size 1080x216 with 1 Axes>"
      ]
     },
     "metadata": {
      "needs_background": "light"
     },
     "output_type": "display_data"
    }
   ],
   "source": [
    "dfm[dfm['Symbols'] == 'QQQ']['close'].plot()\n",
    "df['QQQ'].loc['2015-05-01':'2019-05-01'].plot(color='g')"
   ]
  },
  {
   "cell_type": "code",
   "execution_count": 27,
   "metadata": {},
   "outputs": [
    {
     "data": {
      "text/plain": [
       "<matplotlib.axes._subplots.AxesSubplot at 0x22608e445c0>"
      ]
     },
     "execution_count": 27,
     "metadata": {},
     "output_type": "execute_result"
    },
    {
     "data": {
      "image/png": "[encoded data removed]",
      "text/plain": [
       "<Figure size 1080x216 with 1 Axes>"
      ]
     },
     "metadata": {
      "needs_background": "light"
     },
     "output_type": "display_data"
    }
   ],
   "source": [
    "dfm[dfm['Symbols'] == 'XLE']['close'].plot()\n",
    "df['XLE'].loc['2015-05-01':'2019-05-01'].plot(color='g')"
   ]
  },
  {
   "cell_type": "code",
   "execution_count": 17,
   "metadata": {},
   "outputs": [
    {
     "name": "stdout",
     "output_type": "stream",
     "text": [
      "34 49\n",
      "date\n",
      "2015-05-01    163.7905\n",
      "2015-06-01    164.6088\n",
      "2015-07-01    162.3012\n",
      "2015-09-01    147.4193\n",
      "2015-10-01    149.5787\n",
      "2015-12-01    165.2117\n",
      "2016-02-01    152.2762\n",
      "2016-03-01    156.7330\n",
      "2016-04-01    165.6452\n",
      "2016-06-01    166.3595\n",
      "2016-07-01    168.1751\n",
      "2016-08-01    172.5777\n",
      "2016-09-01    173.4043\n",
      "2016-11-01    170.1551\n",
      "2016-12-01    181.7953\n",
      "2017-02-01    188.7661\n",
      "2017-03-01    201.0868\n",
      "2017-05-01    199.6513\n",
      "2017-06-01    202.6166\n",
      "2017-08-01    210.8737\n",
      "2017-09-01    211.9169\n",
      "2017-11-01    226.3118\n",
      "2017-12-01    234.8555\n",
      "2018-02-01    254.1452\n",
      "2018-03-01    239.5639\n",
      "2018-05-01    235.0340\n",
      "2018-06-01    241.1798\n",
      "2018-08-01    248.4736\n",
      "2018-10-01    262.9337\n",
      "2018-11-01    250.2719\n",
      "2019-02-01    248.4992\n",
      "2019-03-01    259.0692\n",
      "2019-04-01    261.5822\n",
      "2019-05-01    263.4939\n",
      "Name: close, dtype: float64 date\n",
      "2015-05-01     95\n",
      "2015-06-01     86\n",
      "2015-07-01     68\n",
      "2015-08-01     70\n",
      "2015-09-01     70\n",
      "2015-10-01     78\n",
      "2015-11-01     66\n",
      "2015-12-01     57\n",
      "2016-01-01     56\n",
      "2016-02-01     64\n",
      "2016-03-01     81\n",
      "2016-04-01     77\n",
      "2016-05-01     98\n",
      "2016-06-01     83\n",
      "2016-07-01     69\n",
      "2016-08-01     71\n",
      "2016-09-01     69\n",
      "2016-10-01     77\n",
      "2016-11-01     64\n",
      "2016-12-01     56\n",
      "2017-01-01     55\n",
      "2017-02-01     66\n",
      "2017-03-01     82\n",
      "2017-04-01     75\n",
      "2017-05-01    100\n",
      "2017-06-01     80\n",
      "2017-07-01     64\n",
      "2017-08-01     71\n",
      "2017-09-01     66\n",
      "2017-10-01     75\n",
      "2017-11-01     65\n",
      "2017-12-01     55\n",
      "2018-01-01     54\n",
      "2018-02-01     63\n",
      "2018-03-01     81\n",
      "2018-04-01     72\n",
      "2018-05-01     98\n",
      "2018-06-01     82\n",
      "2018-07-01     66\n",
      "2018-08-01     72\n",
      "2018-09-01     67\n",
      "2018-10-01     75\n",
      "2018-11-01     63\n",
      "2018-12-01     54\n",
      "2019-01-01     54\n",
      "2019-02-01     63\n",
      "2019-03-01     79\n",
      "2019-04-01     68\n",
      "2019-05-01     97\n",
      "Name: DIA, dtype: int64\n"
     ]
    }
   ],
   "source": [
    "print(len(spyc1),len(df['DIA'].loc['2015-05-01':'2019-05-01']))\n",
    "print(spyc1,df['DIA'].loc['2015-05-01':'2019-05-01'])"
   ]
  },
  {
   "cell_type": "code",
   "execution_count": 42,
   "metadata": {},
   "outputs": [
    {
     "data": {
      "text/plain": [
       "\"\\ncorr_cg = []\\nfor i in df.columns:\\n    if i != 'isPartial':\\n        close = df1[df1['Symbols'] == i]['close'].loc['2019-02-01':'2019-05-01']\\n        g = df[i].loc['2019-02-01':'2019-05-01']\\n        #print(close,g)\\n        corr_cg.append(close.corr(g))\\n\\nprint(corr_cg)\""
      ]
     },
     "execution_count": 42,
     "metadata": {},
     "output_type": "execute_result"
    }
   ],
   "source": [
    "'''\n",
    "corr_cg = []\n",
    "for i in df.columns:\n",
    "    if i != 'isPartial':\n",
    "        close = df1[df1['Symbols'] == i]['close'].loc['2019-02-01':'2019-05-01']\n",
    "        g = df[i].loc['2019-02-01':'2019-05-01']\n",
    "        #print(close,g)\n",
    "        corr_cg.append(close.corr(g))\n",
    "\n",
    "print(corr_cg)'''"
   ]
  },
  {
   "cell_type": "markdown",
   "metadata": {},
   "source": []
  }
 ],
 "metadata": {
  "kernelspec": {
   "display_name": "Python 3",
   "language": "python",
   "name": "python3"
  },
  "language_info": {
   "codemirror_mode": {
    "name": "ipython",
    "version": 3
   },
   "file_extension": ".py",
   "mimetype": "text/x-python",
   "name": "python",
   "nbconvert_exporter": "python",
   "pygments_lexer": "ipython3",
   "version": "3.7.3"
  }
 },
 "nbformat": 4,
 "nbformat_minor": 2
}
