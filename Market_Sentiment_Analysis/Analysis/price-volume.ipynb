{
 "cells": [
  {
   "cell_type": "markdown",
   "metadata": {},
   "source": [
    "## ETF price-volume relationship  "
   ]
  },
  {
   "cell_type": "code",
   "execution_count": 1,
   "metadata": {},
   "outputs": [
    {
     "data": {
      "text/html": [
       "<div>\n",
       "<style scoped>\n",
       "    .dataframe tbody tr th:only-of-type {\n",
       "        vertical-align: middle;\n",
       "    }\n",
       "\n",
       "    .dataframe tbody tr th {\n",
       "        vertical-align: top;\n",
       "    }\n",
       "\n",
       "    .dataframe thead th {\n",
       "        text-align: right;\n",
       "    }\n",
       "</style>\n",
       "<table border=\"1\" class=\"dataframe\">\n",
       "  <thead>\n",
       "    <tr style=\"text-align: right;\">\n",
       "      <th></th>\n",
       "      <th>Date</th>\n",
       "      <th>Open</th>\n",
       "      <th>High</th>\n",
       "      <th>Low</th>\n",
       "      <th>Close</th>\n",
       "      <th>Volume</th>\n",
       "      <th>OpenInterest</th>\n",
       "    </tr>\n",
       "  </thead>\n",
       "  <tbody>\n",
       "    <tr>\n",
       "      <th>0</th>\n",
       "      <td>2015-05-01</td>\n",
       "      <td>163.1623</td>\n",
       "      <td>163.8906</td>\n",
       "      <td>162.9528</td>\n",
       "      <td>163.7905</td>\n",
       "      <td>3895734</td>\n",
       "      <td>0</td>\n",
       "    </tr>\n",
       "    <tr>\n",
       "      <th>1</th>\n",
       "      <td>2015-05-04</td>\n",
       "      <td>164.1911</td>\n",
       "      <td>164.8375</td>\n",
       "      <td>164.1091</td>\n",
       "      <td>164.2821</td>\n",
       "      <td>3256866</td>\n",
       "      <td>0</td>\n",
       "    </tr>\n",
       "    <tr>\n",
       "      <th>2</th>\n",
       "      <td>2015-05-05</td>\n",
       "      <td>164.0909</td>\n",
       "      <td>164.4187</td>\n",
       "      <td>162.7708</td>\n",
       "      <td>162.9802</td>\n",
       "      <td>5316273</td>\n",
       "      <td>0</td>\n",
       "    </tr>\n",
       "    <tr>\n",
       "      <th>3</th>\n",
       "      <td>2015-05-06</td>\n",
       "      <td>163.7631</td>\n",
       "      <td>164.1091</td>\n",
       "      <td>161.3778</td>\n",
       "      <td>162.4157</td>\n",
       "      <td>7534180</td>\n",
       "      <td>0</td>\n",
       "    </tr>\n",
       "    <tr>\n",
       "      <th>4</th>\n",
       "      <td>2015-05-07</td>\n",
       "      <td>162.1699</td>\n",
       "      <td>163.6084</td>\n",
       "      <td>161.9605</td>\n",
       "      <td>163.2260</td>\n",
       "      <td>4142787</td>\n",
       "      <td>0</td>\n",
       "    </tr>\n",
       "  </tbody>\n",
       "</table>\n",
       "</div>"
      ],
      "text/plain": [
       "         Date      Open      High       Low     Close   Volume  OpenInterest\n",
       "0  2015-05-01  163.1623  163.8906  162.9528  163.7905  3895734             0\n",
       "1  2015-05-04  164.1911  164.8375  164.1091  164.2821  3256866             0\n",
       "2  2015-05-05  164.0909  164.4187  162.7708  162.9802  5316273             0\n",
       "3  2015-05-06  163.7631  164.1091  161.3778  162.4157  7534180             0\n",
       "4  2015-05-07  162.1699  163.6084  161.9605  163.2260  4142787             0"
      ]
     },
     "execution_count": 1,
     "metadata": {},
     "output_type": "execute_result"
    }
   ],
   "source": [
    "import pandas as pd\n",
    "import numpy as np\n",
    "import statsmodels.api as sm\n",
    "import matplotlib as plt\n",
    "df = pd.read_csv('data0.csv')\n",
    "df.head()"
   ]
  },
  {
   "cell_type": "code",
   "execution_count": 2,
   "metadata": {},
   "outputs": [
    {
     "name": "stdout",
     "output_type": "stream",
     "text": [
      "Close    21035.518942\n",
      "dtype: float64\n"
     ]
    }
   ],
   "source": [
    "Y = df['Volume']\n",
    "X = df['Close']\n",
    "model = sm.OLS(Y,X)\n",
    "results = model.fit()\n",
    "print(results.params)"
   ]
  },
  {
   "cell_type": "code",
   "execution_count": 3,
   "metadata": {},
   "outputs": [
    {
     "name": "stdout",
     "output_type": "stream",
     "text": [
      "                            OLS Regression Results                            \n",
      "==============================================================================\n",
      "Dep. Variable:                 Volume   R-squared:                       0.648\n",
      "Model:                            OLS   Adj. R-squared:                  0.648\n",
      "Method:                 Least Squares   F-statistic:                     1855.\n",
      "Date:                Tue, 28 May 2019   Prob (F-statistic):          1.54e-230\n",
      "Time:                        23:58:00   Log-Likelihood:                -16513.\n",
      "No. Observations:                1007   AIC:                         3.303e+04\n",
      "Df Residuals:                    1006   BIC:                         3.303e+04\n",
      "Df Model:                           1                                         \n",
      "Covariance Type:            nonrobust                                         \n",
      "==============================================================================\n",
      "                 coef    std err          t      P>|t|      [0.025      0.975]\n",
      "------------------------------------------------------------------------------\n",
      "Close       2.104e+04    488.433     43.067      0.000    2.01e+04     2.2e+04\n",
      "==============================================================================\n",
      "Omnibus:                      660.289   Durbin-Watson:                   0.464\n",
      "Prob(Omnibus):                  0.000   Jarque-Bera (JB):            10038.815\n",
      "Skew:                           2.790   Prob(JB):                         0.00\n",
      "Kurtosis:                      17.426   Cond. No.                         1.00\n",
      "==============================================================================\n",
      "\n",
      "Warnings:\n",
      "[1] Standard Errors assume that the covariance matrix of the errors is correctly specified.\n"
     ]
    }
   ],
   "source": [
    "print(results.summary())"
   ]
  },
  {
   "cell_type": "code",
   "execution_count": 4,
   "metadata": {},
   "outputs": [
    {
     "name": "stdout",
     "output_type": "stream",
     "text": [
      "           Close    Volume\n",
      "Close   1.000000 -0.176556\n",
      "Volume -0.176556  1.000000\n"
     ]
    }
   ],
   "source": [
    "corr = df[['Close','Volume']].corr()\n",
    "print(corr)\n",
    "#print(corr['Volume'][0])"
   ]
  },
  {
   "cell_type": "code",
   "execution_count": 5,
   "metadata": {},
   "outputs": [
    {
     "data": {
      "text/plain": [
       "<matplotlib.axes._subplots.AxesSubplot at 0x1709e4c4630>"
      ]
     },
     "execution_count": 5,
     "metadata": {},
     "output_type": "execute_result"
    },
    {
     "data": {
      "image/png": "[encoded data removed]",
      "text/plain": [
       "<Figure size 432x288 with 2 Axes>"
      ]
     },
     "metadata": {
      "needs_background": "light"
     },
     "output_type": "display_data"
    }
   ],
   "source": [
    "df[['Close','Volume']].plot(secondary_y = ['Volume'])"
   ]
  },
  {
   "cell_type": "code",
   "execution_count": 6,
   "metadata": {},
   "outputs": [
    {
     "data": {
      "text/html": [
       "<div>\n",
       "<style scoped>\n",
       "    .dataframe tbody tr th:only-of-type {\n",
       "        vertical-align: middle;\n",
       "    }\n",
       "\n",
       "    .dataframe tbody tr th {\n",
       "        vertical-align: top;\n",
       "    }\n",
       "\n",
       "    .dataframe thead th {\n",
       "        text-align: right;\n",
       "    }\n",
       "</style>\n",
       "<table border=\"1\" class=\"dataframe\">\n",
       "  <thead>\n",
       "    <tr style=\"text-align: right;\">\n",
       "      <th></th>\n",
       "      <th>Attributes</th>\n",
       "      <th>open</th>\n",
       "      <th>open.1</th>\n",
       "      <th>open.2</th>\n",
       "      <th>open.3</th>\n",
       "      <th>open.4</th>\n",
       "      <th>open.5</th>\n",
       "      <th>open.6</th>\n",
       "      <th>open.7</th>\n",
       "      <th>open.8</th>\n",
       "      <th>...</th>\n",
       "      <th>volume.13</th>\n",
       "      <th>volume.14</th>\n",
       "      <th>volume.15</th>\n",
       "      <th>volume.16</th>\n",
       "      <th>volume.17</th>\n",
       "      <th>volume.18</th>\n",
       "      <th>volume.19</th>\n",
       "      <th>volume.20</th>\n",
       "      <th>volume.21</th>\n",
       "      <th>volume.22</th>\n",
       "    </tr>\n",
       "  </thead>\n",
       "  <tbody>\n",
       "    <tr>\n",
       "      <th>0</th>\n",
       "      <td>Symbols</td>\n",
       "      <td>DIA</td>\n",
       "      <td>IBB</td>\n",
       "      <td>IHE</td>\n",
       "      <td>ITA</td>\n",
       "      <td>ITB</td>\n",
       "      <td>IWM</td>\n",
       "      <td>IYC</td>\n",
       "      <td>IYR</td>\n",
       "      <td>IYT</td>\n",
       "      <td>...</td>\n",
       "      <td>SPY</td>\n",
       "      <td>XHB</td>\n",
       "      <td>XLB</td>\n",
       "      <td>XLE</td>\n",
       "      <td>XLF</td>\n",
       "      <td>XLI</td>\n",
       "      <td>XLP</td>\n",
       "      <td>XLU</td>\n",
       "      <td>XLV</td>\n",
       "      <td>XLY</td>\n",
       "    </tr>\n",
       "    <tr>\n",
       "      <th>1</th>\n",
       "      <td>date</td>\n",
       "      <td>NaN</td>\n",
       "      <td>NaN</td>\n",
       "      <td>NaN</td>\n",
       "      <td>NaN</td>\n",
       "      <td>NaN</td>\n",
       "      <td>NaN</td>\n",
       "      <td>NaN</td>\n",
       "      <td>NaN</td>\n",
       "      <td>NaN</td>\n",
       "      <td>...</td>\n",
       "      <td>NaN</td>\n",
       "      <td>NaN</td>\n",
       "      <td>NaN</td>\n",
       "      <td>NaN</td>\n",
       "      <td>NaN</td>\n",
       "      <td>NaN</td>\n",
       "      <td>NaN</td>\n",
       "      <td>NaN</td>\n",
       "      <td>NaN</td>\n",
       "      <td>NaN</td>\n",
       "    </tr>\n",
       "    <tr>\n",
       "      <th>2</th>\n",
       "      <td>2015-05-01</td>\n",
       "      <td>163.1623</td>\n",
       "      <td>112.1416</td>\n",
       "      <td>159.572</td>\n",
       "      <td>116.0162</td>\n",
       "      <td>25.4884</td>\n",
       "      <td>114.6117</td>\n",
       "      <td>137.3856</td>\n",
       "      <td>64.0702</td>\n",
       "      <td>146.8248</td>\n",
       "      <td>...</td>\n",
       "      <td>103399711</td>\n",
       "      <td>6020645</td>\n",
       "      <td>6749902</td>\n",
       "      <td>11354599</td>\n",
       "      <td>18331079</td>\n",
       "      <td>11017898</td>\n",
       "      <td>5158317</td>\n",
       "      <td>12507400</td>\n",
       "      <td>11508332</td>\n",
       "      <td>6110220</td>\n",
       "    </tr>\n",
       "    <tr>\n",
       "      <th>3</th>\n",
       "      <td>2015-05-04</td>\n",
       "      <td>164.1911</td>\n",
       "      <td>114.1163</td>\n",
       "      <td>161.801</td>\n",
       "      <td>116.2851</td>\n",
       "      <td>25.9207</td>\n",
       "      <td>115.1871</td>\n",
       "      <td>139.4599</td>\n",
       "      <td>64.7752</td>\n",
       "      <td>149.2922</td>\n",
       "      <td>...</td>\n",
       "      <td>70927235</td>\n",
       "      <td>3616168</td>\n",
       "      <td>4150209</td>\n",
       "      <td>14434247</td>\n",
       "      <td>22232282</td>\n",
       "      <td>6096265</td>\n",
       "      <td>6710241</td>\n",
       "      <td>13323122</td>\n",
       "      <td>8561748</td>\n",
       "      <td>3920894</td>\n",
       "    </tr>\n",
       "    <tr>\n",
       "      <th>4</th>\n",
       "      <td>2015-05-05</td>\n",
       "      <td>164.0909</td>\n",
       "      <td>113.9607</td>\n",
       "      <td>162.4527</td>\n",
       "      <td>116.4195</td>\n",
       "      <td>25.7635</td>\n",
       "      <td>115.3946</td>\n",
       "      <td>139.1238</td>\n",
       "      <td>64.4694</td>\n",
       "      <td>148.9861</td>\n",
       "      <td>...</td>\n",
       "      <td>113326156</td>\n",
       "      <td>4608939</td>\n",
       "      <td>3761331</td>\n",
       "      <td>16076343</td>\n",
       "      <td>30639814</td>\n",
       "      <td>10026905</td>\n",
       "      <td>6537353</td>\n",
       "      <td>18621205</td>\n",
       "      <td>11373760</td>\n",
       "      <td>7856800</td>\n",
       "    </tr>\n",
       "  </tbody>\n",
       "</table>\n",
       "<p>5 rows × 116 columns</p>\n",
       "</div>"
      ],
      "text/plain": [
       "   Attributes      open    open.1    open.2    open.3   open.4    open.5  \\\n",
       "0     Symbols       DIA       IBB       IHE       ITA      ITB       IWM   \n",
       "1        date       NaN       NaN       NaN       NaN      NaN       NaN   \n",
       "2  2015-05-01  163.1623  112.1416   159.572  116.0162  25.4884  114.6117   \n",
       "3  2015-05-04  164.1911  114.1163   161.801  116.2851  25.9207  115.1871   \n",
       "4  2015-05-05  164.0909  113.9607  162.4527  116.4195  25.7635  115.3946   \n",
       "\n",
       "     open.6   open.7    open.8  ...  volume.13 volume.14 volume.15 volume.16  \\\n",
       "0       IYC      IYR       IYT  ...        SPY       XHB       XLB       XLE   \n",
       "1       NaN      NaN       NaN  ...        NaN       NaN       NaN       NaN   \n",
       "2  137.3856  64.0702  146.8248  ...  103399711   6020645   6749902  11354599   \n",
       "3  139.4599  64.7752  149.2922  ...   70927235   3616168   4150209  14434247   \n",
       "4  139.1238  64.4694  148.9861  ...  113326156   4608939   3761331  16076343   \n",
       "\n",
       "  volume.17 volume.18 volume.19 volume.20 volume.21 volume.22  \n",
       "0       XLF       XLI       XLP       XLU       XLV       XLY  \n",
       "1       NaN       NaN       NaN       NaN       NaN       NaN  \n",
       "2  18331079  11017898   5158317  12507400  11508332   6110220  \n",
       "3  22232282   6096265   6710241  13323122   8561748   3920894  \n",
       "4  30639814  10026905   6537353  18621205  11373760   7856800  \n",
       "\n",
       "[5 rows x 116 columns]"
      ]
     },
     "execution_count": 6,
     "metadata": {},
     "output_type": "execute_result"
    }
   ],
   "source": [
    "df1 = pd.read_csv('industry_etf.csv')\n",
    "df1.head()"
   ]
  },
  {
   "cell_type": "code",
   "execution_count": 27,
   "metadata": {},
   "outputs": [
    {
     "name": "stdout",
     "output_type": "stream",
     "text": [
      "[163.7905 164.2821 162.9802 ... 264.7806 265.1298 263.4939] [3895734. 3256866. 5316273. ... 1522458. 2259245. 2902461.]\n",
      "[3.89573400e+06 7.15260000e+06 1.83632700e+06 ... 1.27762929e+08\n",
      " 1.30022174e+08 1.27119713e+08]\n",
      "                0\n",
      "0       3895734.0\n",
      "1       7152600.0\n",
      "2       1836327.0\n",
      "3      -5697853.0\n",
      "4      -1555066.0\n",
      "5       3974520.0\n",
      "6        220959.0\n",
      "7      -4521837.0\n",
      "8       -670454.0\n",
      "9       4250976.0\n",
      "10      8773127.0\n",
      "11     11663630.0\n",
      "12     14430217.0\n",
      "13      9349441.0\n",
      "14     12073672.0\n",
      "15      9716647.0\n",
      "16      4186953.0\n",
      "17      7775105.0\n",
      "18      4114254.0\n",
      "19      -809396.0\n",
      "20      3539620.0\n",
      "21     -1566618.0\n",
      "22      3915326.0\n",
      "23     -3397128.0\n",
      "24     -8625863.0\n",
      "25    -13006404.0\n",
      "26    -17728827.0\n",
      "27    -12247969.0\n",
      "28     -8533167.0\n",
      "29    -13099917.0\n",
      "...           ...\n",
      "977   102241958.0\n",
      "978   106041968.0\n",
      "979    99815479.0\n",
      "980   104797933.0\n",
      "981   108076651.0\n",
      "982   104910497.0\n",
      "983   107344876.0\n",
      "984   111600735.0\n",
      "985   117652446.0\n",
      "986   115332398.0\n",
      "987   118597926.0\n",
      "988   122994968.0\n",
      "989   126107686.0\n",
      "990   122876001.0\n",
      "991   118714418.0\n",
      "992   122317280.0\n",
      "993   119585597.0\n",
      "994   122980812.0\n",
      "995   120790524.0\n",
      "996   123326531.0\n",
      "997   123326531.0\n",
      "998   126795716.0\n",
      "999   125191563.0\n",
      "1000  128590738.0\n",
      "1001  126690917.0\n",
      "1002  124357087.0\n",
      "1003  126240471.0\n",
      "1004  127762929.0\n",
      "1005  130022174.0\n",
      "1006  127119713.0\n",
      "\n",
      "[1007 rows x 1 columns]\n"
     ]
    },
    {
     "data": {
      "text/plain": [
       "<matplotlib.axes._subplots.AxesSubplot at 0x1709e54c518>"
      ]
     },
     "execution_count": 27,
     "metadata": {},
     "output_type": "execute_result"
    },
    {
     "data": {
      "image/png": "[encoded data removed]",
      "text/plain": [
       "<Figure size 432x288 with 1 Axes>"
      ]
     },
     "metadata": {
      "needs_background": "light"
     },
     "output_type": "display_data"
    }
   ],
   "source": [
    "import talib as ta\n",
    "import numpy as np\n",
    "close = np.array(df1['close'][2:],dtype='float')\n",
    "volume = np.array(df1['volume'][2:],dtype='float')\n",
    "print(close,volume)\n",
    "OBV = ta.OBV(close, volume)\n",
    "print(OBV)\n",
    "OBV = pd.DataFrame(OBV)\n",
    "print(OBV)\n",
    "OBV.plot()"
   ]
  },
  {
   "cell_type": "markdown",
   "metadata": {},
   "source": [
    "[Python TA-Lib](https://kknews.cc/zh-tw/other/x2zpk4r.html)  \n",
    "[pandas-statistics](https://pythonprogramming.net/pandas-statistics-correlation-tables-how-to/)  \n",
    "[量價關係分析](https://kknews.cc/zh-tw/other/x2zpk4r.html)  \n",
    "[股市技術分析利器之TA-Lib（一）](https://kknews.cc/zh-tw/other/pyyvkjz.html)  "
   ]
  },
  {
   "cell_type": "code",
   "execution_count": null,
   "metadata": {},
   "outputs": [],
   "source": []
  }
 ],
 "metadata": {
  "kernelspec": {
   "display_name": "Python 3",
   "language": "python",
   "name": "python3"
  },
  "language_info": {
   "codemirror_mode": {
    "name": "ipython",
    "version": 3
   },
   "file_extension": ".py",
   "mimetype": "text/x-python",
   "name": "python",
   "nbconvert_exporter": "python",
   "pygments_lexer": "ipython3",
   "version": "3.7.3"
  }
 },
 "nbformat": 4,
 "nbformat_minor": 2
}
