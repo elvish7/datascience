{
 "cells": [
  {
   "cell_type": "code",
   "execution_count": 26,
   "metadata": {},
   "outputs": [
    {
     "name": "stdout",
     "output_type": "stream",
     "text": [
      "[('https://etfdailynews.com/2019/05/24/the-dow-jones-industrial-average-has-its-5th-straight-negative-week/', 'From Fred Imbert:\\r\\n\\r\\nStocks rose on Friday, but notched weekly losses as investors worried the U.S.-China trade war is hurting economic growth.              \\nETF BASIC NEWS  May 24, 2019 6:54pm', 'ETF BASIC NEWS  May 24, 2019 6:54pm'), ('https://etfdailynews.com/2019/05/24/2-year-note-yield-jumps-has-largest-daily-increase-since-april-1-marketwatch/', \"From Sunny Oh: Treasury prices fell on Friday, pushing yields higher, as U.S. equities erased some of the previous session's slump, sapping appetite for government paper.              \\nETF BASIC NEWS  May 24, 2019 6:42pm\", 'ETF BASIC NEWS  May 24, 2019 6:42pm'), ('https://etfdailynews.com/2019/05/24/texas-approves-the-expansion-of-its-medical-marijuana-program/', \"From Brendan Bures:\\r\\n\\r\\nIn a stunning turn of events, the Texas Senate unanimously approved the expansion of the state's medical marijuana program to include more qualifying conditions and make the process easier for patients. The bill had previously passed in the House and now awaits final legislative approval before heading to Gov. Greg Abbot's desk for his signature.              \\nNYSE:MJ  May 24, 2019 6:25pm\", 'NYSE:MJ  May 24, 2019 6:25pm'), ('https://etfdailynews.com/2019/05/24/gold-vs-bitcoin-which-is-the-better-investment/', \"From Mike Hammer:\\r\\n\\r\\nThe debate over gold vs Bitcoin rages on. We've\\xa0talked about this before, maybe it's time for an update. \\nNYSE:GLD  May 24, 2019 2:36pm\", 'NYSE:GLD  May 24, 2019 2:36pm'), ('https://etfdailynews.com/2019/05/24/how-are-u-s-airlines-reacting-to-boeings-737-maxs-still-be-grounded/', 'From Emma Newburger and Leslie Josephs:\\r\\nKEY POINTS\\n\\nNYSE:JETS  May 24, 2019 2:26pm', 'NYSE:JETS  May 24, 2019 2:26pm'), ('https://etfdailynews.com/2019/05/24/after-a-rough-start-in-2019-the-health-care-sector-makes-a-come-back/', \"From Keris Lahiff: The\\xa0Dow Jones Industrial Average\\xa0hasn't seen these kinds of losses in eight years.              \\nNYSE:XLV  May 24, 2019 1:36pm\", 'NYSE:XLV  May 24, 2019 1:36pm'), ('https://etfdailynews.com/2019/05/24/auto-sales-are-slowing-which-is-good-for-summertime-car-shoppers/', \"From Sarah O'Brien: With auto sales slowing, car shoppers are likely to find dealerships eager to move inventory over the Memorial Day weekend.              \\nNASDAQ:CARZ  May 24, 2019 1:30pm\", 'NASDAQ:CARZ  May 24, 2019 1:30pm'), ('https://etfdailynews.com/2019/05/24/174966/', 'From Myra P. Saefong and Rachel Koning Beals:\\r\\n\\r\\nOil futures struggled for direction on Friday, a day after posting their biggest one-day loss since December, with prices looking to post their worst weekly performance of the year. \\nNYSE:USO  May 24, 2019 1:23pm', 'NYSE:USO  May 24, 2019 1:23pm'), ('https://etfdailynews.com/2019/05/24/jp-morgan-dramatically-cuts-2nd-quarter-gdp-forecast/', 'From Patti Domm:\\r\\nKEY POINTS\\n\\nNYSE:SPY  May 24, 2019 1:12pm', 'NYSE:SPY  May 24, 2019 1:12pm'), ('https://etfdailynews.com/2019/05/24/aphrias-stock-jumps-9-leads-marijuana-sector-higher/', 'From Ciara Linnane: Canopy Growth shares flat as shareholders await June vote on proposed deal that would give it a foothold in the U.S. \\nNYSE:MJ  May 24, 2019 12:58pm', 'NYSE:MJ  May 24, 2019 12:58pm'), ('https://etfdailynews.com/2019/05/23/canadian-cannabis-company-flowr-corp-will-be-listed-on-nasdaq/', 'From Max A. Cherney:\\r\\n\\r\\nFlowr Corp.\\xa0FLWR,\\xa0-0.56%\\xa0FLWPF,\\xa0-2.62%\\xa0said late Thursday that it had received approval to list on the Nasdaq Capital Market. The Canadian weed producer will trade under the ticker FLWR and begin trading at a date it will set out in its 40-F, filed with the Securities and Exchange Commission. \"We have made tremendous progress against our strategic priorities in 2019, and the approval of our listing on the Nasdaq further enhances our capital markets objectives. This listing provides us with broader access to investors around the world and is a natural progression for Flowr,\" Chief Executive Vinay Tolia said in a statement. Flowr stock fell 0.6% in regular trading Thursday as the S&P 500 index\\xa0SPX,\\xa0-1.19%\\xa0dropped 1.2%.              \\nNASDAQ:QQQ  May 23, 2019 6:16pm', 'NASDAQ:QQQ  May 23, 2019 6:16pm'), ('https://etfdailynews.com/2019/05/23/the-red-warning-flag-is-waving-for-these-3-pot-stocks-2/', 'From Fred Imbert:\\r\\n\\n \\nNYSE:MJ  May 23, 2019 6:08pm', 'NYSE:MJ  May 23, 2019 6:08pm'), ('https://etfdailynews.com/2019/05/23/the-red-warning-flag-is-waving-for-these-3-pot-stocks/', \"From Sean Williams: Although it's still very early in the legalization process, marijuana offers the potential of being a once-in-a-lifetime growth opportunity. After racking up only $5.4 billion in global legal sales in 2015, Cowen Group analyst Vivien Azer foresees $75 billion in worldwide sales pot sales by 2030. If accurate, this would equate to a compound annual growth rate of better than 19%.              \\nNYSE:MJ  May 23, 2019 6:02pm\", 'NYSE:MJ  May 23, 2019 6:02pm'), ('https://etfdailynews.com/2019/05/23/effort-to-pass-laws-aimed-at-increasing-marijuana-businesses-access-to-banks-is-gaining-momentum/', 'From Ciara Linnane: The push for legislation that would allow banks to do business with cannabis companies without the risk of federal enforcement action is gaining momentum, and credit unions are playing a key role.              \\nNYSE:MJ  May 23, 2019 3:57pm', 'NYSE:MJ  May 23, 2019 3:57pm'), ('https://etfdailynews.com/2019/05/23/gold-prices-move-higher-as-the-us-housing-sector-is-starting-to-wane/', 'From Kitco : (Kitco News) -\\xa0Momentum in the U.S. housing sector is starting to wane as fewer consumers bought new homes last month.              \\nNYSE:GLD  May 23, 2019 3:45pm', 'NYSE:GLD  May 23, 2019 3:45pm')]\n"
     ]
    }
   ],
   "source": [
    "from bs4 import BeautifulSoup\n",
    "import requests\n",
    "import pandas as pd\n",
    "import numpy as np\n",
    "\n",
    "content = []\n",
    "def get_news():\n",
    "\n",
    "    site = 'https://etfdailynews.com/blog/'\n",
    "\n",
    "    html = requests.get(site).content\n",
    "    soup = BeautifulSoup(html , 'lxml')\n",
    "    \n",
    "    story = soup.find_all('div',class_='post')\n",
    "    for j in story:\n",
    "        try:\n",
    "            link = j.find('a', href=True)['href']\n",
    "            #title = j.find(class_='title').text.strip()\n",
    "            summary = j.find(class_='content').text.strip()\n",
    "            time = j.find(class_='fourteen margin-top').text.strip()\n",
    "            content.append((link,summary,time))\n",
    "        except: pass\n",
    "        \n",
    "get_news()\n",
    "print(content)"
   ]
  },
  {
   "cell_type": "code",
   "execution_count": 27,
   "metadata": {},
   "outputs": [
    {
     "data": {
      "text/plain": [
       "15"
      ]
     },
     "execution_count": 27,
     "metadata": {},
     "output_type": "execute_result"
    }
   ],
   "source": [
    "#convert output to new array, check length\n",
    "content = np.asarray(content)\n",
    "len(content)"
   ]
  },
  {
   "cell_type": "code",
   "execution_count": 29,
   "metadata": {},
   "outputs": [
    {
     "data": {
      "text/html": [
       "<div>\n",
       "<style scoped>\n",
       "    .dataframe tbody tr th:only-of-type {\n",
       "        vertical-align: middle;\n",
       "    }\n",
       "\n",
       "    .dataframe tbody tr th {\n",
       "        vertical-align: top;\n",
       "    }\n",
       "\n",
       "    .dataframe thead th {\n",
       "        text-align: right;\n",
       "    }\n",
       "</style>\n",
       "<table border=\"1\" class=\"dataframe\">\n",
       "  <thead>\n",
       "    <tr style=\"text-align: right;\">\n",
       "      <th></th>\n",
       "      <th>link</th>\n",
       "      <th>summary</th>\n",
       "      <th>time</th>\n",
       "    </tr>\n",
       "  </thead>\n",
       "  <tbody>\n",
       "    <tr>\n",
       "      <th>10</th>\n",
       "      <td>https://etfdailynews.com/2019/05/23/canadian-c...</td>\n",
       "      <td>From Max A. Cherney:\\r\\n\\r\\nFlowr Corp. FLWR, ...</td>\n",
       "      <td>NASDAQ:QQQ  May 23, 2019 6:16pm</td>\n",
       "    </tr>\n",
       "    <tr>\n",
       "      <th>11</th>\n",
       "      <td>https://etfdailynews.com/2019/05/23/the-red-wa...</td>\n",
       "      <td>From Fred Imbert:\\r\\n\\n \\nNYSE:MJ  May 23, 201...</td>\n",
       "      <td>NYSE:MJ  May 23, 2019 6:08pm</td>\n",
       "    </tr>\n",
       "    <tr>\n",
       "      <th>12</th>\n",
       "      <td>https://etfdailynews.com/2019/05/23/the-red-wa...</td>\n",
       "      <td>From Sean Williams: Although it's still very e...</td>\n",
       "      <td>NYSE:MJ  May 23, 2019 6:02pm</td>\n",
       "    </tr>\n",
       "    <tr>\n",
       "      <th>13</th>\n",
       "      <td>https://etfdailynews.com/2019/05/23/effort-to-...</td>\n",
       "      <td>From Ciara Linnane: The push for legislation t...</td>\n",
       "      <td>NYSE:MJ  May 23, 2019 3:57pm</td>\n",
       "    </tr>\n",
       "    <tr>\n",
       "      <th>14</th>\n",
       "      <td>https://etfdailynews.com/2019/05/23/gold-price...</td>\n",
       "      <td>From Kitco : (Kitco News) - Momentum in the U....</td>\n",
       "      <td>NYSE:GLD  May 23, 2019 3:45pm</td>\n",
       "    </tr>\n",
       "  </tbody>\n",
       "</table>\n",
       "</div>"
      ],
      "text/plain": [
       "                                                 link  \\\n",
       "10  https://etfdailynews.com/2019/05/23/canadian-c...   \n",
       "11  https://etfdailynews.com/2019/05/23/the-red-wa...   \n",
       "12  https://etfdailynews.com/2019/05/23/the-red-wa...   \n",
       "13  https://etfdailynews.com/2019/05/23/effort-to-...   \n",
       "14  https://etfdailynews.com/2019/05/23/gold-price...   \n",
       "\n",
       "                                              summary  \\\n",
       "10  From Max A. Cherney:\\r\\n\\r\\nFlowr Corp. FLWR, ...   \n",
       "11  From Fred Imbert:\\r\\n\\n \\nNYSE:MJ  May 23, 201...   \n",
       "12  From Sean Williams: Although it's still very e...   \n",
       "13  From Ciara Linnane: The push for legislation t...   \n",
       "14  From Kitco : (Kitco News) - Momentum in the U....   \n",
       "\n",
       "                               time  \n",
       "10  NASDAQ:QQQ  May 23, 2019 6:16pm  \n",
       "11     NYSE:MJ  May 23, 2019 6:08pm  \n",
       "12     NYSE:MJ  May 23, 2019 6:02pm  \n",
       "13     NYSE:MJ  May 23, 2019 3:57pm  \n",
       "14    NYSE:GLD  May 23, 2019 3:45pm  "
      ]
     },
     "execution_count": 29,
     "metadata": {},
     "output_type": "execute_result"
    }
   ],
   "source": [
    "#convert new array to dataframe\n",
    "df = pd.DataFrame(content)\n",
    "#rename columns, check output\n",
    "df.columns = ['link', 'summary','time']\n",
    "df.tail()"
   ]
  },
  {
   "cell_type": "code",
   "execution_count": 42,
   "metadata": {},
   "outputs": [],
   "source": [
    "c = []\n",
    "def get_news_content():\n",
    "    \n",
    "    site = 'https://etfdailynews.com/2019/05/24/2-year-note-yield-jumps-has-largest-daily-increase-since-april-1-marketwatch/'\n",
    "\n",
    "    html = requests.get(site).content\n",
    "    soup = BeautifulSoup(html , 'lxml')\n",
    "    \n",
    "    story = soup.find(class_='post-entry no-pad-left no-pad-right margin-top').text.strip()\n",
    "    c.append(story)\n",
    "        \n",
    "get_news_content()"
   ]
  },
  {
   "cell_type": "code",
   "execution_count": 43,
   "metadata": {},
   "outputs": [
    {
     "name": "stdout",
     "output_type": "stream",
     "text": [
      "['U.S. bond markets saw a\\xa0holiday-shortened session, closing at 2 p.m. Eastern Time, in observance of Memorial Day, and will be closed on Monday.\\nWhat are Treasurys doing?\\nThe 10-year Treasury note yield\\xa0TMUBMUSD10Y,\\xa0+0.00%\\xa0rose 3.2 basis points to 2.327%, trimming its weeklong drop to 6.9 basis points. The 2-year note yieldTMUBMUSD02Y,\\xa0+0.00%\\xa0was up 4.5 basis points to 2.175%, marking its biggest daily increase since April 1. The short-dated maturity fell 3 basis points for the week.\\nThe 30-year bond yield\\xa0TMUBMUSD30Y,\\xa0+0.00%\\xa0rose 2.3 basis points to 2.754%, paring its weeklong decline to 7.1 basis points. Debt prices move in the opposite direction of yields.\\nMeanwhile, yields for British 10-year pounds\\xa0TMBMKGB-10Y,\\xa0+0.00%\\xa0known as gilts, fell a single basis point to 0.955% after U.K. Prime Minister Theresa May announced her resignation due to her inability to pass a Brexit deal.\\nWhat’s driving Treasurys?\\nWith stock markets set to\\xa0take a break from this Thursday’s selloff, inflows into the bond-market waned. The S&P 500\\xa0SPX,\\xa0+0.14%\\xa0and the Dow Jones Industrial Average\\xa0DJIA,\\xa0+0.37%\\xa0were on course to end higher on Friday, paring their weeklong losses.\\nPresident Donald Trump\\xa0said he anticipated a “fast” trade deal with China, and that the U.S. could pull back its ban against Huawei Technologies Inc. as part of an agreement. Investors have grown fearful that a resolution to the longstanding trade spat between the U.S. and China would remain elusive, with some pointing to the U.S.’s ban on Huawei as a sign of an entrenching dispute between the two sides.\\nYields briefly sagged after investors digested some downbeat data on the business investment front.\\xa0Durable goods orders for April fell 2.1%, following a 2.6% increase in March. The more stable core capital goods orders measure, which excludes defense and aircraft investment, fell 0.9%.\\nWhat did market participants say?\\n“The more tensions escalate and the longer the negotiations continue, the more uncertainty there will be and become more of a drag be on investment spending in the U.S.,” said Ward McCarthy, chief financial economist for Jefferies.\\n\\nThe iShares 1-3 Year Treasury Bond ETF (SHY) was unchanged in after-hours trading Friday. Year-to-date, SHY has gained 0.90%, versus a 6.39% rise in the benchmark S&P 500 index during the same period.\\nSHY currently has an ETF Daily News SMART Grade of A (Strong Buy), and is ranked #2 of 29 ETFs in the Government Bonds ETFs category.\\n\\nThis article is brought to you courtesy of MarketWatch .']\n"
     ]
    }
   ],
   "source": [
    "print(c)"
   ]
  }
 ],
 "metadata": {
  "kernelspec": {
   "display_name": "Python 3",
   "language": "python",
   "name": "python3"
  },
  "language_info": {
   "codemirror_mode": {
    "name": "ipython",
    "version": 3
   },
   "file_extension": ".py",
   "mimetype": "text/x-python",
   "name": "python",
   "nbconvert_exporter": "python",
   "pygments_lexer": "ipython3",
   "version": "3.7.3"
  }
 },
 "nbformat": 4,
 "nbformat_minor": 2
}
