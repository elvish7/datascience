{
 "cells": [
  {
   "cell_type": "markdown",
   "metadata": {},
   "source": [
    "### 修改資料：liberty_times_crawler.ipynb  \n",
    "Since I'm more interested in financial than politics, I change the code from crawling politics news to business news.  \n",
    "Get news also from 自由時報  \n",
    "[財經](https://news.ltn.com.tw/list/newspaper/business/20181231)  \n",
    "Most of the code remain the same, yet I add comments which is more detail.  "
   ]
  },
  {
   "cell_type": "code",
   "execution_count": 34,
   "metadata": {},
   "outputs": [],
   "source": [
    "from datetime import datetime, timedelta\n",
    "\n",
    "start_date = \"2018-12-01\" #change the date\n",
    "stop_date = \"2019-02-20\"\n",
    "\n",
    "start = datetime.strptime(start_date, \"%Y-%m-%d\") #整理時間資料格式\n",
    "stop = datetime.strptime(stop_date, \"%Y-%m-%d\")\n",
    "\n",
    "dates = list() #用來存放時間\n",
    "while start <= stop: \n",
    "    dates.append(start.strftime('%Y%m%d'))\n",
    "    start = start + timedelta(days = 1)"
   ]
  },
  {
   "cell_type": "markdown",
   "metadata": {},
   "source": [
    "Write a function to parse the HTML response, return the data we want(title, content, ...etc)."
   ]
  },
  {
   "cell_type": "code",
   "execution_count": 35,
   "metadata": {},
   "outputs": [],
   "source": [
    "import requests\n",
    "from bs4 import BeautifulSoup as bs"
   ]
  },
  {
   "cell_type": "code",
   "execution_count": 28,
   "metadata": {},
   "outputs": [],
   "source": [
    "items = doc('.titles-tab .feed-item').items()\n",
    "\n",
    "def process_document(document, date):\n",
    "    \n",
    "    nodes = document.select('ul.list > li')\n",
    "    data = list()\n",
    "    \n",
    "    for li in nodes:\n",
    "        \n",
    "        # check if is empty element\n",
    "        if li.select_one('a') == None:\n",
    "            continue\n",
    "        \n",
    "        # get link\n",
    "        li_link = 'http://news.ltn.com.tw/' + li.select_one('a')['href']\n",
    "        \n",
    "        # request for document\n",
    "        li_res = requests.get(li_link)\n",
    "        li_doc = bs(li_res.text,'lxml')\n",
    "        \n",
    "        # get date\n",
    "        li_date = datetime.strptime(date, \"%Y%m%d\").strftime('%Y-%m-%d')\n",
    "        \n",
    "        #get title\n",
    "        li_title = li.select_one('p').get_text()\n",
    "\n",
    "        #get content\n",
    "        li_content = \"\"\n",
    "        for ele in li_doc.select('div.text > p'):\n",
    "            if not 'appE1121' in ele.get('class', []):\n",
    "                li_content += ele.get_text()\n",
    "\n",
    "        # append new row\n",
    "        data.append({\n",
    "            'date' : li_date,\n",
    "            'title': li_title,\n",
    "            'link' : li_link,\n",
    "            'content' : li_content,\n",
    "            'tags' : []\n",
    "        })\n",
    "        \n",
    "        # put the titles into titles.txt\n",
    "        with open('titles.txt', 'a', encoding='utf-8') as file: \n",
    "            file.write('\\n'.join([li_title])) \n",
    "            #file.write('\\n' + '=' * 50 + '\\n')\n",
    "            \n",
    "    return data"
   ]
  },
  {
   "cell_type": "code",
   "execution_count": 36,
   "metadata": {},
   "outputs": [
    {
     "name": "stdout",
     "output_type": "stream",
     "text": [
      "start crawling : 20181201\n",
      "start crawling : 20181202\n",
      "start crawling : 20181203\n",
      "start crawling : 20181204\n",
      "start crawling : 20181205\n",
      "start crawling : 20181206\n",
      "start crawling : 20181207\n",
      "start crawling : 20181208\n",
      "start crawling : 20181209\n",
      "start crawling : 20181210\n",
      "start crawling : 20181211\n",
      "start crawling : 20181212\n",
      "start crawling : 20181213\n",
      "start crawling : 20181214\n",
      "start crawling : 20181215\n",
      "start crawling : 20181216\n",
      "start crawling : 20181217\n",
      "start crawling : 20181218\n",
      "start crawling : 20181219\n",
      "start crawling : 20181220\n",
      "start crawling : 20181221\n",
      "start crawling : 20181222\n",
      "start crawling : 20181223\n",
      "start crawling : 20181224\n",
      "start crawling : 20181225\n",
      "start crawling : 20181226\n",
      "start crawling : 20181227\n",
      "start crawling : 20181228\n",
      "start crawling : 20181229\n",
      "start crawling : 20181230\n",
      "start crawling : 20181231\n",
      "start crawling : 20190101\n",
      "start crawling : 20190102\n",
      "start crawling : 20190103\n",
      "start crawling : 20190104\n",
      "start crawling : 20190105\n",
      "start crawling : 20190106\n",
      "start crawling : 20190107\n",
      "start crawling : 20190108\n",
      "start crawling : 20190109\n",
      "start crawling : 20190110\n",
      "start crawling : 20190111\n",
      "start crawling : 20190112\n",
      "start crawling : 20190113\n",
      "start crawling : 20190114\n",
      "start crawling : 20190115\n",
      "start crawling : 20190116\n",
      "start crawling : 20190117\n",
      "start crawling : 20190118\n",
      "start crawling : 20190119\n",
      "start crawling : 20190120\n",
      "start crawling : 20190121\n",
      "start crawling : 20190122\n",
      "start crawling : 20190123\n",
      "start crawling : 20190124\n",
      "start crawling : 20190125\n",
      "start crawling : 20190126\n",
      "start crawling : 20190127\n",
      "start crawling : 20190128\n",
      "start crawling : 20190129\n",
      "start crawling : 20190130\n",
      "start crawling : 20190131\n",
      "start crawling : 20190201\n",
      "start crawling : 20190202\n",
      "start crawling : 20190203\n",
      "start crawling : 20190204\n",
      "start crawling : 20190205\n",
      "start crawling : 20190206\n",
      "start crawling : 20190207\n",
      "start crawling : 20190208\n",
      "start crawling : 20190209\n",
      "start crawling : 20190210\n",
      "start crawling : 20190211\n",
      "start crawling : 20190212\n",
      "start crawling : 20190213\n",
      "start crawling : 20190214\n",
      "start crawling : 20190215\n",
      "start crawling : 20190216\n",
      "start crawling : 20190217\n",
      "start crawling : 20190218\n",
      "start crawling : 20190219\n",
      "start crawling : 20190220\n"
     ]
    }
   ],
   "source": [
    "cnt = 0\n",
    "all_data = list()\n",
    "for date in dates:\n",
    "    print('start crawling :', date)\n",
    "    \n",
    "    #change the link\n",
    "    res = requests.get('https://news.ltn.com.tw/list/newspaper/business/' + date)\n",
    "    doc = bs(res.text, 'lxml')\n",
    "    data = process_document(doc, date)\n",
    "    all_data += data"
   ]
  },
  {
   "cell_type": "code",
   "execution_count": 38,
   "metadata": {},
   "outputs": [
    {
     "data": {
      "text/plain": [
       "[{'content': '〔記者廖千瑩／台北報導〕勞動部昨預告「最低工資法草案」，最低工資審議將參採消費者物價指數（ＣＰＩ）年增率訂出調整幅度，至於勞動生產力指數年增率、勞工平均薪資年增率等則屬參考指標；因此，未來只要ＣＰＩ上漲，最低工資就會跟著漲。草案規定，勞動部將設最低工資研究小組，由學者專家及國發會、經濟部等單位，在開會三十天前提出具體建議案，包括調整幅度等，以免開會淪為漫天喊價；此外，基本工資調整方案送行政院後，行政院只能退回一次，第二次就必須尊重審議會決定。「最低工資法」是總統蔡英文的競選政見，將目前僅為法規命令的基本工資審議辦法，提升到法律位階，並把最低工資須參考的指標入法，草案最快明年二月送行政院審議。草案規定，「最低工資法」適用對象與「勞基法」相同，未納入家事外勞。勞動部將設最低工資審議會，由勞資政學四方組成，勞方、資方各推派七人，學者專家四人，經濟部、勞動部及國發會各一人，加上勞動部長組成共二十二名委員的審議會，每年第三季召開審議會議，隔年一月一日實施，若有必要也可另訂實施日期。草案明訂最低工資調整參考指標，審議會「應」參採ＣＰＩ年增率擬定最低工資調幅，未來若ＣＰＩ上漲，最低工資也會調漲；另「得」參採指標有十項，包括勞動生產力指數年增率、勞工平均薪資年增率、家庭收支狀況及最低生活費等。勞動部勞動條件及就業平等司司長謝倩蒨表示，ＣＰＩ年增率是一定要考慮的因素，不能把ＣＰＩ年增率當做調幅，也不代表調幅的下限；ＣＰＩ若下跌，也不代表最低工資會調降，還有其他指數要參考。現行機制基本工資不能退回重審，過去曾發生基本工資決議送到行政院，結果行政院先漲時薪、月薪有條件緩漲，造成當時勞委會主委王如玄請辭；因此，草案明訂，勞動部審議後十日內將最低工資調整案送行政院，行政院收文後二十日內核定，若不同意，只能退回一次，審議會三十天內再開會決議，行政院就須核定。',\n",
       "  'date': '2018-12-01',\n",
       "  'link': 'http://news.ltn.com.tw/news/business/paper/1250861',\n",
       "  'tags': [],\n",
       "  'title': '最低工資 跟著物價指數調升'},\n",
       " {'content': '〔記者廖千瑩／台北報導〕勞動部昨預告「最低工資法草案」，文化大學勞工關係系教授李健鴻表示，最低工資參採消費者物價指數（ＣＰＩ）是勞資團體最大共識，也是國際上多國採用的指標，有其合理性；台灣勞工陣線秘書長孫友聯則指出，應參採指標只列ＣＰＩ，稍嫌保守。李健鴻表示，過去都是得參採指標不同，導致基本工資審議開會時吵吵鬧鬧，連要用哪一個指標都沒共識，未來「最低工資法」通過後，可以每一年都先看ＣＰＩ。此外，草案規定每年第三季一定要開最低工資審議會議，相較基本工資審議會議曾有十年沒有開過的紀錄，明確入法總比審議機制擺著好看來得好。孫友聯則認為，召開最低工資審議會前，研究小組先提出建議案也是正確方向，但研究資料跟資訊應該要公開，以促進對話。全產總秘書長戴國榮及yes123求職網發言人楊宗斌表示，應參採指標只有ＣＰＩ一項，可能不足以反映底層勞工生活所需，建議送行政院後，增加更多關鍵指標，例如行政院監控的十七項民生物價年增率。戴國榮也表示，若審議會勞、資方委員各持己見、堅持採用的得參採指標不同，應該如何處理，也是該思考的方向。',\n",
       "  'date': '2018-12-01',\n",
       "  'link': 'http://news.ltn.com.tw/news/business/paper/1250862',\n",
       "  'tags': [],\n",
       "  'title': '勞團︰最低工資應參採指標 不該只有CPI'},\n",
       " {'content': '〔記者羅倩宜／台北報導〕勞動部預告「最低工資法草案」，工商界認為，經過「一例一休」，企業和勞工對政策信心十分低落，且台灣經濟並沒有強勁成長，若政府還堅持要修，必須有配套，例如降低企業勞健保負擔或稅率，再逐年落日，「最重要的是把經濟做起來，否則企業賺不到錢，每次談最低工資都要反彈」。上市櫃公司協會財務長鄭聖穎指出，政府若要訂最低工資，配套是什麼？審議委員及研究小組的成員哪裡來？都要比以前更完備，才不會讓企業覺得信心缺缺。上市櫃公司協會認為，政府訂最低工資是保障勞工最低生活標準，但台灣經濟若持續低迷，企業獲利不佳，硬要求最低工資，還是會有反彈聲浪。上市櫃公司協會也認為，推動最低工資最平穩的方式，就是政府提供誘因，例如降低稅率、降低勞健保及退休金負擔、獎勵投資等，由政府分擔一部分增加的成本，「這些補助可以逐年落日，目的只是讓企業界感覺政府在同一條船上，而非政府老是要求資方共體時艱」。中小企業總會理事長李育家認為，「最低工資法」衝擊最大的是五人以下的微型企業，占全台一四○萬家中小企業的七成，每一次工資調整，不僅薪資支出增加，還有勞健保等周邊成本，因此，若一體適用大小企業，沒有任何配套，受害的將是沒有聲音的大多數。建議參考其他國家，一旦大幅調高最低工資，應針對特定產業、特定條件企業提供補貼或減免。工總指出，草案最大進步是成立「研究小組」，負責在審議前先提出建議，應可避免過去勞資雙方在沒有基準的情況下各喊各的；商總則表示，不是很贊成再訂最低工資，但既然政府堅持，也只能配合，希望能注意研究小組和審議委員的組成，必須真實代表勞資意見。',\n",
       "  'date': '2018-12-01',\n",
       "  'link': 'http://news.ltn.com.tw/news/business/paper/1250863',\n",
       "  'tags': [],\n",
       "  'title': '最低工資法須有配套 工商界盼降稅、減勞健保負擔'}]"
      ]
     },
     "execution_count": 38,
     "metadata": {},
     "output_type": "execute_result"
    }
   ],
   "source": [
    "all_data[0:3] #check the result"
   ]
  },
  {
   "cell_type": "markdown",
   "metadata": {},
   "source": [
    "save as pkl file"
   ]
  },
  {
   "cell_type": "code",
   "execution_count": 41,
   "metadata": {},
   "outputs": [],
   "source": [
    "import pickle\n",
    "\n",
    "with open('liberty_times.pkl', 'wb') as f:\n",
    "    pickle.dump(all_data, f)"
   ]
  },
  {
   "cell_type": "markdown",
   "metadata": {},
   "source": [
    "Turn it into pandas dataframe"
   ]
  },
  {
   "cell_type": "code",
   "execution_count": 42,
   "metadata": {},
   "outputs": [
    {
     "data": {
      "text/html": [
       "<div>\n",
       "<style scoped>\n",
       "    .dataframe tbody tr th:only-of-type {\n",
       "        vertical-align: middle;\n",
       "    }\n",
       "\n",
       "    .dataframe tbody tr th {\n",
       "        vertical-align: top;\n",
       "    }\n",
       "\n",
       "    .dataframe thead th {\n",
       "        text-align: right;\n",
       "    }\n",
       "</style>\n",
       "<table border=\"1\" class=\"dataframe\">\n",
       "  <thead>\n",
       "    <tr style=\"text-align: right;\">\n",
       "      <th></th>\n",
       "      <th>date</th>\n",
       "      <th>title</th>\n",
       "      <th>link</th>\n",
       "      <th>content</th>\n",
       "      <th>tags</th>\n",
       "    </tr>\n",
       "  </thead>\n",
       "  <tbody>\n",
       "    <tr>\n",
       "      <th>0</th>\n",
       "      <td>2018-12-01</td>\n",
       "      <td>最低工資 跟著物價指數調升</td>\n",
       "      <td>http://news.ltn.com.tw/news/business/paper/125...</td>\n",
       "      <td>〔記者廖千瑩／台北報導〕勞動部昨預告「最低工資法草案」，最低工資審議將參採消費者物價指數（Ｃ...</td>\n",
       "      <td>[]</td>\n",
       "    </tr>\n",
       "    <tr>\n",
       "      <th>1</th>\n",
       "      <td>2018-12-01</td>\n",
       "      <td>勞團︰最低工資應參採指標 不該只有CPI</td>\n",
       "      <td>http://news.ltn.com.tw/news/business/paper/125...</td>\n",
       "      <td>〔記者廖千瑩／台北報導〕勞動部昨預告「最低工資法草案」，文化大學勞工關係系教授李健鴻表示，最...</td>\n",
       "      <td>[]</td>\n",
       "    </tr>\n",
       "    <tr>\n",
       "      <th>2</th>\n",
       "      <td>2018-12-01</td>\n",
       "      <td>最低工資法須有配套 工商界盼降稅、減勞健保負擔</td>\n",
       "      <td>http://news.ltn.com.tw/news/business/paper/125...</td>\n",
       "      <td>〔記者羅倩宜／台北報導〕勞動部預告「最低工資法草案」，工商界認為，經過「一例一休」，企業和勞...</td>\n",
       "      <td>[]</td>\n",
       "    </tr>\n",
       "    <tr>\n",
       "      <th>3</th>\n",
       "      <td>2018-12-01</td>\n",
       "      <td>最低工資法草案Q＆A</td>\n",
       "      <td>http://news.ltn.com.tw/news/business/paper/125...</td>\n",
       "      <td>Q：為什麼要訂「最低工資法」？A：現行「基本工資審議辦法」位階只是法規命令，立法可提升法律位...</td>\n",
       "      <td>[]</td>\n",
       "    </tr>\n",
       "    <tr>\n",
       "      <th>4</th>\n",
       "      <td>2018-12-01</td>\n",
       "      <td>延役費用 核三300億 核二150億</td>\n",
       "      <td>http://news.ltn.com.tw/news/business/paper/125...</td>\n",
       "      <td>〔記者林菁樺、葉冠妤、翁聿煌／綜合報導〕核能機組是否延役，兩個月內將定奪。以延役經費來看，核...</td>\n",
       "      <td>[]</td>\n",
       "    </tr>\n",
       "  </tbody>\n",
       "</table>\n",
       "</div>"
      ],
      "text/plain": [
       "         date                    title  \\\n",
       "0  2018-12-01            最低工資 跟著物價指數調升   \n",
       "1  2018-12-01     勞團︰最低工資應參採指標 不該只有CPI   \n",
       "2  2018-12-01  最低工資法須有配套 工商界盼降稅、減勞健保負擔   \n",
       "3  2018-12-01               最低工資法草案Q＆A   \n",
       "4  2018-12-01       延役費用 核三300億 核二150億   \n",
       "\n",
       "                                                link  \\\n",
       "0  http://news.ltn.com.tw/news/business/paper/125...   \n",
       "1  http://news.ltn.com.tw/news/business/paper/125...   \n",
       "2  http://news.ltn.com.tw/news/business/paper/125...   \n",
       "3  http://news.ltn.com.tw/news/business/paper/125...   \n",
       "4  http://news.ltn.com.tw/news/business/paper/125...   \n",
       "\n",
       "                                             content tags  \n",
       "0  〔記者廖千瑩／台北報導〕勞動部昨預告「最低工資法草案」，最低工資審議將參採消費者物價指數（Ｃ...   []  \n",
       "1  〔記者廖千瑩／台北報導〕勞動部昨預告「最低工資法草案」，文化大學勞工關係系教授李健鴻表示，最...   []  \n",
       "2  〔記者羅倩宜／台北報導〕勞動部預告「最低工資法草案」，工商界認為，經過「一例一休」，企業和勞...   []  \n",
       "3  Q：為什麼要訂「最低工資法」？A：現行「基本工資審議辦法」位階只是法規命令，立法可提升法律位...   []  \n",
       "4  〔記者林菁樺、葉冠妤、翁聿煌／綜合報導〕核能機組是否延役，兩個月內將定奪。以延役經費來看，核...   []  "
      ]
     },
     "execution_count": 42,
     "metadata": {},
     "output_type": "execute_result"
    }
   ],
   "source": [
    "import pandas as pd\n",
    "pd.DataFrame(all_data)[['date', 'title', 'link', 'content', 'tags']].head()"
   ]
  }
 ],
 "metadata": {
  "kernelspec": {
   "display_name": "Python 3",
   "language": "python",
   "name": "python3"
  },
  "language_info": {
   "codemirror_mode": {
    "name": "ipython",
    "version": 3
   },
   "file_extension": ".py",
   "mimetype": "text/x-python",
   "name": "python",
   "nbconvert_exporter": "python",
   "pygments_lexer": "ipython3",
   "version": "3.6.4"
  }
 },
 "nbformat": 4,
 "nbformat_minor": 2
}
