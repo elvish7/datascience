{
 "cells": [
  {
   "cell_type": "code",
   "execution_count": 1,
   "metadata": {},
   "outputs": [],
   "source": [
    "import pandas as pd\n",
    "\n",
    "news = pd.read_csv('all_news.csv')\n",
    "news['Content'] = [x.lower() for x in news['Content']]"
   ]
  },
  {
   "cell_type": "code",
   "execution_count": 2,
   "metadata": {},
   "outputs": [],
   "source": [
    "# Sectors include Finance, Industrial, Healthcare, Technology, Retail, Energy\n",
    "\n",
    "\n",
    "finance = []\n",
    "industrial = []\n",
    "healthcare = []\n",
    "tech = []\n",
    "retail = []\n",
    "energy = []\n",
    "\n",
    "sectors = [finance, industrial, healthcare, tech, retail, energy]\n",
    "names = ['finance', 'industrial', 'healthcare', 'tech', 'retail', 'energy']\n",
    "\n",
    "finance_words = ['wealth management', 'finance', 'bank', 'insurance', 'trading', 'portfolio', 'hedge', 'collateral', 'equity', 'valuation']\n",
    "industrial_words = ['automobile', 'chemical', 'industrial', 'steel', 'coal', 'aircraft', 'mining']\n",
    "healthcare_words = ['healthcare', 'medical', 'dental', 'clinic', 'treatment', 'illness', 'disease', 'pharmacy', 'therapy']\n",
    "tech_words = ['tech', 'smartphone', 'laptop', 'internet', 'wireless', '5g', 'app ', 'electric', 'wifi', 'VR', 'AR', 'blockchain']\n",
    "retail_words = ['retail', 'store', 'supermarket', 'consumer', 'shop', ' mall', 'outlet']\n",
    "energy_words = ['oil', 'gasoline', 'petro', 'crude', 'electricity',  'refining', 'nuclear power', 'renewable energy', 'wind power', 'solar power']\n",
    "\n",
    "sector_words = [finance_words, industrial_words, healthcare_words, tech_words, retail_words, energy_words]"
   ]
  },
  {
   "cell_type": "code",
   "execution_count": 3,
   "metadata": {},
   "outputs": [],
   "source": [
    "for i in range(6):\n",
    "    for word in sector_words[i]:\n",
    "        sectors[i].append(news[news['Content'].str.contains(word)])\n",
    "\n",
    "    sectors[i] = pd.concat(sectors[i]).drop_duplicates()\n",
    "    sectors[i].to_csv('/mnt/c/Users/bryan/OneDrive/Desktop/news/sectors/' + names[i] + '.csv')\n",
    "    "
   ]
  },
  {
   "cell_type": "code",
   "execution_count": 4,
   "metadata": {},
   "outputs": [
    {
     "name": "stdout",
     "output_type": "stream",
     "text": [
      "14255\n",
      "8918\n",
      "4564\n",
      "10357\n",
      "8136\n",
      "6589\n"
     ]
    }
   ],
   "source": [
    "for i in sectors:\n",
    "    print(len(i))"
   ]
  },
  {
   "cell_type": "code",
   "execution_count": null,
   "metadata": {},
   "outputs": [],
   "source": []
  }
 ],
 "metadata": {
  "kernelspec": {
   "display_name": "Python 3",
   "language": "python",
   "name": "python3"
  },
  "language_info": {
   "codemirror_mode": {
    "name": "ipython",
    "version": 3
   },
   "file_extension": ".py",
   "mimetype": "text/x-python",
   "name": "python",
   "nbconvert_exporter": "python",
   "pygments_lexer": "ipython3",
   "version": "3.7.3"
  }
 },
 "nbformat": 4,
 "nbformat_minor": 2
}
